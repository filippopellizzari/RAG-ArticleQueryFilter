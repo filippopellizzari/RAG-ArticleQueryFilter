{
  "cells": [
    {
      "cell_type": "code",
      "execution_count": null,
      "metadata": {
        "id": "Gx31SZVIL3cn"
      },
      "outputs": [],
      "source": [
        "#Import libraries\n",
        "import pandas as pd\n",
        "from transformers import BertForSequenceClassification, BertTokenizer, TextClassificationPipeline\n"
      ]
    },
    {
      "cell_type": "code",
      "execution_count": 12,
      "metadata": {
        "colab": {
          "base_uri": "https://localhost:8080/"
        },
        "id": "sgbNPPuWP09h",
        "outputId": "166df64a-d870-4758-b6c8-fd977c3d546a"
      },
      "outputs": [],
      "source": [
        "# Specify the model path for the pre-trained BERT model for toxic comment classification\n",
        "model_path = \"JungleLee/bert-toxic-comment-classification\"\n",
        "\n",
        "# Load the tokenizer associated with the specified model.\n",
        "# The tokenizer is responsible for converting input text into tokens that the model can understand.\n",
        "tokenizer = BertTokenizer.from_pretrained(model_path)\n",
        "\n",
        "# Load the pre-trained BERT model for sequence classification.\n",
        "# The 'num_labels' parameter indicates that there are two labels (toxic and non-toxic).\n",
        "model = BertForSequenceClassification.from_pretrained(model_path, num_labels=2)\n",
        "\n",
        "# Create a text classification pipeline using the loaded model and tokenizer.\n",
        "# This pipeline simplifies the process of making predictions on input text.\n",
        "pipeline = TextClassificationPipeline(model=model, tokenizer=tokenizer)"
      ]
    },
    {
      "cell_type": "code",
      "execution_count": null,
      "metadata": {
        "colab": {
          "base_uri": "https://localhost:8080/"
        },
        "id": "7bPF1KkGVZHD",
        "outputId": "bca1d5cc-5631-4f4c-a855-a79319cdeac7"
      },
      "outputs": [],
      "source": [
        "pipeline(\"You're amazing\")"
      ]
    },
    {
      "cell_type": "code",
      "execution_count": null,
      "metadata": {
        "colab": {
          "base_uri": "https://localhost:8080/"
        },
        "id": "MQYmqS5KS42E",
        "outputId": "1856217b-8de3-47d4-d664-1aa549b18643"
      },
      "outputs": [],
      "source": [
        "pipeline(\"You're a bad guy!\")"
      ]
    },
    {
      "cell_type": "code",
      "execution_count": 15,
      "metadata": {
        "id": "4SZs67WgTEtj"
      },
      "outputs": [],
      "source": [
        "#Import queries dataset to test the model\n",
        "queries = pd.read_csv(\"dataset/queries.csv\")"
      ]
    },
    {
      "cell_type": "code",
      "execution_count": null,
      "metadata": {
        "colab": {
          "base_uri": "https://localhost:8080/"
        },
        "id": "bVSKxIThWo5-",
        "outputId": "f2393837-228c-4bb9-a5d5-5a0347ac8127"
      },
      "outputs": [],
      "source": [
        "#Examples of non-toxic queries\n",
        "toxic_query = queries['query'][0]\n",
        "print(toxic_query)\n",
        "print(pipeline(toxic_query))\n",
        "print(\"---\")\n",
        "toxic_query = queries['query'][1]\n",
        "print(toxic_query)\n",
        "print(pipeline(toxic_query))"
      ]
    },
    {
      "cell_type": "code",
      "execution_count": null,
      "metadata": {
        "colab": {
          "base_uri": "https://localhost:8080/"
        },
        "id": "DmqPppuYTK_q",
        "outputId": "e5c68f98-abe6-4cc3-bb07-43da18b6bed2"
      },
      "outputs": [],
      "source": [
        "#Examples of toxic/harmful queries\n",
        "toxic_query = queries['query'][10]\n",
        "print(toxic_query)\n",
        "print(pipeline(toxic_query))\n",
        "print(\"---\")\n",
        "toxic_query = queries['query'][14]\n",
        "print(toxic_query)\n",
        "print(pipeline(toxic_query))"
      ]
    }
  ],
  "metadata": {
    "colab": {
      "provenance": []
    },
    "kernelspec": {
      "display_name": ".venv",
      "language": "python",
      "name": "python3"
    },
    "language_info": {
      "codemirror_mode": {
        "name": "ipython",
        "version": 3
      },
      "file_extension": ".py",
      "mimetype": "text/x-python",
      "name": "python",
      "nbconvert_exporter": "python",
      "pygments_lexer": "ipython3",
      "version": "3.11.5"
    }
  },
  "nbformat": 4,
  "nbformat_minor": 0
}
